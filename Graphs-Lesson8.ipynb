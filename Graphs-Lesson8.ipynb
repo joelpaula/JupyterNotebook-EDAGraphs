{
 "cells": [
  {
   "cell_type": "markdown",
   "metadata": {},
   "source": [
    "# Graphs\n",
    "Implementing a graph in Python, using an adjacency list representation, implemented with dictionaries.\n",
    "\n",
    "Our graph uses a dictionary which keys are all the vertices and which values are dictionaries themselves. Those dictionaries have an entry for each connected vertex, which value is the connecting edge.\n",
    "\n"
   ]
  },
  {
   "cell_type": "code",
   "execution_count": null,
   "metadata": {},
   "outputs": [],
   "source": []
  }
 ],
 "metadata": {
  "language_info": {
   "codemirror_mode": {
    "name": "ipython",
    "version": 3
   },
   "file_extension": ".py",
   "mimetype": "text/x-python",
   "name": "python",
   "nbconvert_exporter": "python",
   "pygments_lexer": "ipython3",
   "version": 3
  },
  "orig_nbformat": 2
 },
 "nbformat": 4,
 "nbformat_minor": 2
}